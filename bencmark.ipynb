{
 "cells": [
  {
   "cell_type": "markdown",
   "id": "e9e2381c",
   "metadata": {},
   "source": [
    "# Benchmark Actix and Axum\n",
    "\n",
    "**Нагрузочные сценари:**\n",
    "- поиск точки деградации производительности\n",
    "- работа на максимальной нагрузке\n",
    "\n",
    "**Типы тел запросов:**\n",
    "- плоский JSON-объект\n",
    "- смешанный JSON-объект\n",
    "- вложенный JSON-объект"
   ]
  },
  {
   "cell_type": "markdown",
   "id": "f4cbda30",
   "metadata": {},
   "source": [
    "## Импорты"
   ]
  },
  {
   "cell_type": "code",
   "execution_count": null,
   "id": "2a5e94a3",
   "metadata": {},
   "outputs": [],
   "source": [
    "import scripts.objs as o\n",
    "import scripts.loader as l\n",
    "import scripts.container_manager as c"
   ]
  },
  {
   "cell_type": "markdown",
   "id": "2d6b72c8",
   "metadata": {},
   "source": [
    "## Константы"
   ]
  },
  {
   "cell_type": "code",
   "execution_count": null,
   "id": "1a6a19c5",
   "metadata": {},
   "outputs": [],
   "source": [
    "N = 1\n",
    "ROUTES = [\"/flat\", \"/mixed\", \"/deep\"]\n",
    "\n",
    "AXUM_HOST = \"127.0.0.1:6789\"\n",
    "ACTIX_HOST = \"127.0.0.1:9876\""
   ]
  },
  {
   "cell_type": "markdown",
   "id": "2f453933",
   "metadata": {},
   "source": [
    "## Поиск точки деградации производительности"
   ]
  },
  {
   "cell_type": "markdown",
   "id": "1f091486",
   "metadata": {},
   "source": [
    "### Константы"
   ]
  },
  {
   "cell_type": "code",
   "execution_count": null,
   "id": "cb7e85a6",
   "metadata": {},
   "outputs": [],
   "source": [
    "MES_DIR = \"degradation\""
   ]
  },
  {
   "cell_type": "markdown",
   "id": "56804c01",
   "metadata": {},
   "source": [
    "### Сбор данных"
   ]
  },
  {
   "cell_type": "code",
   "execution_count": null,
   "id": "9685d1ba",
   "metadata": {},
   "outputs": [],
   "source": []
  }
 ],
 "metadata": {
  "kernelspec": {
   "display_name": "Python 3",
   "language": "python",
   "name": "python3"
  },
  "language_info": {
   "name": "python",
   "version": "3.13.3"
  }
 },
 "nbformat": 4,
 "nbformat_minor": 5
}
